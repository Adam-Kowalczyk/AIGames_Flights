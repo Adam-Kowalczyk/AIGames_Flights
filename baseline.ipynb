{
 "nbformat": 4,
 "nbformat_minor": 2,
 "metadata": {
  "language_info": {
   "name": "python",
   "codemirror_mode": {
    "name": "ipython",
    "version": 3
   },
   "version": "3.7.6-final"
  },
  "orig_nbformat": 2,
  "file_extension": ".py",
  "mimetype": "text/x-python",
  "name": "python",
  "npconvert_exporter": "python",
  "pygments_lexer": "ipython3",
  "version": 3,
  "kernelspec": {
   "name": "python3",
   "display_name": "Python 3"
  }
 },
 "cells": [
  {
   "cell_type": "code",
   "execution_count": null,
   "metadata": {},
   "outputs": [],
   "source": [
    "from ast import literal_eval\n",
    "import math\n",
    "\n",
    "import numpy as np\n",
    "import pandas as pd\n",
    "from sklearn import datasets, linear_model\n",
    "from geopy import distance"
   ]
  },
  {
   "cell_type": "code",
   "execution_count": null,
   "metadata": {},
   "outputs": [],
   "source": [
    "flights_df = pd.read_csv('dataset/flight_plans_train.csv')\n",
    "flights_times_df = pd.read_csv('dataset/flight_times_labels_train.csv')\n",
    "flights_df.dropna(inplace=True)\n",
    "flights_df = flights_df.merge(flights_times_df, on='id', how='inner')\n",
    "flights_df['decoded_fixes'] = flights_df['decoded_fixes'].apply(literal_eval)\n",
    "flights_df.head()"
   ]
  },
  {
   "cell_type": "code",
   "execution_count": null,
   "metadata": {},
   "outputs": [],
   "source": [
    "def dist_from_path(path):\n",
    "    # return distance.distance(path[0], path[-1]).miles\n",
    "    dist = 0\n",
    "    for idx, p2 in enumerate(path[1:]):\n",
    "        dist += distance.distance(path[idx-1], p2).miles\n",
    "    return dist\n",
    "\n",
    "flights_df['distance'] = flights_df['decoded_fixes'].apply(dist_from_path)\n",
    "flights_df.head()"
   ]
  },
  {
   "cell_type": "code",
   "execution_count": null,
   "metadata": {},
   "outputs": [],
   "source": [
    "flights_df['baseline_time'] = flights_df['distance'] / flights_df['requested_airspeed'] * 3600\n",
    "flights_df['diff'] = (flights_df['flight_time_s'] - flights_df['baseline_time'])\n",
    "flights_df.head(30)\n",
    "flights_df.describe()"
   ]
  },
  {
   "cell_type": "code",
   "execution_count": null,
   "metadata": {},
   "outputs": [],
   "source": [
    "flights_df[flights_df['diff'] <= -6292]"
   ]
  },
  {
   "cell_type": "code",
   "execution_count": null,
   "metadata": {},
   "outputs": [],
   "source": []
  }
 ]
}